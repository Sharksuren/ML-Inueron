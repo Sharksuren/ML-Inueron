{
 "cells": [
  {
   "cell_type": "code",
   "execution_count": 20,
   "metadata": {},
   "outputs": [
    {
     "name": "stdout",
     "output_type": "stream",
     "text": [
      "*\n",
      "**\n",
      "***\n",
      "****\n",
      "*****\n",
      "*****\n",
      "****\n",
      "***\n",
      "**\n",
      "*\n"
     ]
    }
   ],
   "source": [
    "#1. Create the below pattern using nested for loop in Python.\n",
    "\n",
    "\n",
    "#looping using range to define the maxium number of stars to be printed\n",
    "for i in range(0,5):\n",
    "\n",
    "    #looping each time to print the stars on the next lines as needed\n",
    "    for j in range(0,i+1):\n",
    "        print('*',end='')\n",
    "    #to move the ext print to the next line before the following loopof an inner loop\n",
    "    print('')\n",
    "    \n",
    "#following the same procedure using -1 nto reverse the range and print the maximum starts to minimum\n",
    "for i in range(5,0,-1):\n",
    "    #using minus 1 as the first loop will come as 5 and runs till 0, since i dont want to print 5 starts line one more time\n",
    "    for j in range(0,i,-1):\n",
    "        print('*',end='')\n",
    "    print('')"
   ]
  },
  {
   "cell_type": "code",
   "execution_count": 22,
   "metadata": {},
   "outputs": [
    {
     "name": "stdout",
     "output_type": "stream",
     "text": [
      "Enter your string: Suren\n",
      "Reversed text is : neruS\n"
     ]
    }
   ],
   "source": [
    "#getting a string from the user nand string it into a variable\n",
    "user_text=str(input(\"Enter your string : \"))\n",
    "\n",
    "#Reversing the string reeceived from the user\n",
    "reverse_string=user_text[::-1]\n",
    "\n",
    "printing the reversed string\n",
    "print(\"Reversed text is : {}\".format(reverse_string))\n",
    "    "
   ]
  },
  {
   "cell_type": "code",
   "execution_count": null,
   "metadata": {},
   "outputs": [],
   "source": []
  },
  {
   "cell_type": "code",
   "execution_count": null,
   "metadata": {},
   "outputs": [],
   "source": []
  }
 ],
 "metadata": {
  "kernelspec": {
   "display_name": "Python 3",
   "language": "python",
   "name": "python3"
  },
  "language_info": {
   "codemirror_mode": {
    "name": "ipython",
    "version": 3
   },
   "file_extension": ".py",
   "mimetype": "text/x-python",
   "name": "python",
   "nbconvert_exporter": "python",
   "pygments_lexer": "ipython3",
   "version": "3.7.6"
  }
 },
 "nbformat": 4,
 "nbformat_minor": 4
}
